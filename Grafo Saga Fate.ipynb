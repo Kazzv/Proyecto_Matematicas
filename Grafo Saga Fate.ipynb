{
 "cells": [
  {
   "attachments": {},
   "cell_type": "markdown",
   "id": "b722af04-31b2-4f1a-9404-613a54953b67",
   "metadata": {},
   "source": [
    "<div style=\"text-align: center;\">\n",
    "    <h1>Codigo sobre un grafo de la saga de anime y videojuegos \"FATE\".</h1>\n",
    "</div>\n",
    "\n",
    "<div style=\"text-align: center;\">\n",
    "    <img src=\"https://c4.wallpaperflare.com/wallpaper/211/732/863/tohsaka-rin-archer-fate-stay-night-fate-series-fate-stay-night-wallpaper-preview.jpg\" alt=\"Descripción de la imagen\">\n",
    "</div>"
   ]
  },
  {
   "cell_type": "markdown",
   "id": "d755b653-79af-4446-9b9c-7fcdaf0320b3",
   "metadata": {},
   "source": [
    "<div style=\"text-align: center;\">\n",
    "    <h1>Descripcion de FATE:</h1>\n",
    "</div>\n",
    "\n",
    "Fate es una de las franquicias multimedio más complejas que se han creado en Japón. Originalmente la saga comenzó en Fate/stay night una visual novel que fue lanzada para PC en 2004, su éxito fue tal que el producto se adaptó a otros medios como mangas y animes.\n",
    "Hablando exclusivamente de las series, el orden de lanzamiento puede confundir a mucha gente ya que al igual que otros títulos de la cultura popular, hubo preculas que llegaron después del primer show e incluso cintas que sirven como resumen."
   ]
  },
  {
   "cell_type": "markdown",
   "id": "da03037a-bc4a-4edb-b59b-c9d274b1596c",
   "metadata": {},
   "source": [
    "# Como ver FATE:\n",
    "\n",
    "Fate/Zero.\n",
    "\n",
    "Fate/stay night.\n",
    "\n",
    "Fate/stay night - Unlimited Blade Works.\n",
    "\n",
    "Fate/stay night Movie: Heaven's Feel.der"
   ]
  },
  {
   "cell_type": "markdown",
   "id": "c2e66416-5d43-432c-924d-fa818280859a",
   "metadata": {},
   "source": [
    "<div style=\"text-align: center;\">\n",
    "    <h1>Fate Zero.</h1>\n",
    "</div>\n",
    "\n",
    "Se considera la precuela de todo. Lanzada el 2 de octubre de 2011 en formato de serie, consta de 25 episodios que muestran los acontecimientos de la Cuarta Guerra por el Santo Grial.\n",
    "\n",
    "La historia transcurre 10 años antes de Fate/stay night con un argumento que gira en torno a Emiya Kiritsugu y su Servant Saber.\n",
    "\n",
    "<div style=\"text-align: center;\">\n",
    "    <img src=\"https://imgsrv.crunchyroll.com/cdn-cgi/image/fit=contain,format=auto,quality=85,width=1200,height=675/catalog/crunchyroll/fdc0dff409f19dfd8ffff5037257ac98.jpe\" alt=\"Descripción de la imagen\">\n",
    "</div>"
   ]
  },
  {
   "cell_type": "markdown",
   "id": "73ef3019-d50c-49cf-901d-07505784c3b1",
   "metadata": {},
   "source": [
    "<div style=\"text-align: center;\">\n",
    "    <h1>Fate Stay Night.</h1>\n",
    "</div>\n",
    "\n",
    "\n",
    "Básicamente, los 24 episodios que conforman la serie estrenada el 7 de enero de 2006, muestran lo que sigue tras Fate/Zero. Sin embargo, el protagonismo recae completamente en la historia del hijo adoptivo de Kiritsugu.\r\n",
    "\r\n",
    "Debido a que es la adaptación de uno de los mejores videojuegos japoneses de la historia, en Fate/stay night todo comienza a ser un poco confuso, ya que cuenta con varias rutas. Aunque al final, el estudio decide basar la serie en la ruta de Saberv>"
   ]
  },
  {
   "cell_type": "markdown",
   "id": "653ce64e-eb5f-44f8-90f0-c25c3a499295",
   "metadata": {},
   "source": [
    "<div style=\"text-align: center;\">\n",
    "    <img src=\"https://www.lavanguardia.com/peliculas-series/images/serie/backdrop/2006/1/w1280/b2mskN6F9kUolFc8mTBiEJwfXLC.jpg\" alt=\"Descripción de la imagen\">\n",
    "</div>"
   ]
  },
  {
   "cell_type": "markdown",
   "id": "59cc2aad-ae7b-4fc1-ae4e-90bd2cf7b3f2",
   "metadata": {},
   "source": [
    "<div style=\"text-align: center;\">\n",
    "    <h1>Fate Stay Night Unlimited Blade works.</h1>\n",
    "</div>\n",
    "\n",
    "Con Fate/stay night tenemos dos opciones: una película de 105 minutos de duración, o la serie de anime que consta de 26 episodios, ambas producciones estrenadas el 23 de enero de 2010.\r\n",
    "\r\n",
    "En la versión alternativa de la serie, Saber pierde el protagonismo. En su lugar, la historia se centra en la ruta de Rin Tosaka y su Servant Archer."
   ]
  },
  {
   "attachments": {},
   "cell_type": "markdown",
   "id": "f864b55d-e734-4102-95dd-33005bf5c677",
   "metadata": {},
   "source": [
    "<div style=\"text-align: center;\">\n",
    "    <img src=\"https://m.media-amazon.com/images/M/MV5BY2FmM2QyOGEtMmIzMC00YjBkLWFkMzMtMjhjZWQ0ZmM3N2M2XkEyXkFqcGdeQXVyNDgyODgxNjE@._V1_.jpg\" alt=\"Descripción de la imagen\">\n",
    "</div>"
   ]
  },
  {
   "cell_type": "markdown",
   "id": "78b1995f-28dc-4935-ba48-00314f784ed1",
   "metadata": {},
   "source": [
    "<div style=\"text-align: center;\">\n",
    "    <h1>Fate Stay Night Movie: Heaven´s Feel.</h1>\n",
    "</div>\n",
    "\n",
    "La trilogía de películas estuvo a cargo del estudio de animación Ufotable y fueron estrenadas entre el 2017 y el 2020, bajo los nombres de Presage Flower, Lost Butterfly y Spring Song. Su argumento se basa en la tercera ruta del videojuego Fate/stay night.\n",
    "\n",
    "De esta manera, Sakura Matou se convierte en el protagonista central de la historia, al igual que su familia."
   ]
  },
  {
   "cell_type": "markdown",
   "id": "7cac76f9-ed4c-4d1e-a681-a4886075f93f",
   "metadata": {},
   "source": [
    "<div style=\"text-align: center;\">\n",
    "    <img src=\"https://i.ytimg.com/vi/AMr5pXzpvP0/maxresdefault.jpg\" alt=\"Descripción de la imagen\">\n",
    "</div>"
   ]
  },
  {
   "cell_type": "markdown",
   "id": "e7a809da-f5ec-467c-895c-c2b2a4283a1a",
   "metadata": {},
   "source": [
    "# Historias en universos paralelos:\n",
    "\n",
    "Fate/Apocrypha.\n",
    "\n",
    "Fate/kaleid liner Prisma Illya.\n",
    "\n",
    "Fate/Extra: Last Encore.\n",
    "\n",
    "Fate/Grand Order."
   ]
  },
  {
   "cell_type": "markdown",
   "id": "069fbcca-b84c-4085-a4c3-f564c8be9b1d",
   "metadata": {},
   "source": [
    "<div style=\"text-align: center;\">\n",
    "    <h1>Fate / Apocrypha.</h1>\n",
    "</div>\n",
    "\n",
    "Es una adaptación de la novela homónima estrenada en julio de 2017. A lo largo de 25 episodios, nos traslada a un universo paralelo al de Fate/stay night. La historia plantea que Trufas será el lugar en el que se llevará a cabo la Cuarta Guerra Santa. Asimismo, supone una clara separación entre el Santo Grial y Fuyuki.\n",
    "\n",
    "<div style=\"text-align: center;\">\n",
    "    <img src=\"https://upload.wikimedia.org/wikipedia/commons/thumb/1/11/Fate_Apocrypha_logo.svg/800px-Fate_Apocrypha_logo.svg.png\" alt=\"Descripción de la imagen\">\n",
    "</div>"
   ]
  },
  {
   "cell_type": "markdown",
   "id": "9e21c0e7-f689-4fbd-97bc-c26196d96cdc",
   "metadata": {},
   "source": [
    "<div style=\"text-align: center;\">\n",
    "    <h1>Fate / Kaleid Liner Prisma.</h1>\n",
    "</div>\n",
    "\n",
    "En este despliegue de producciones no existen las Guerras Santas, la trama se enfoca en la historia alternativa de Illya, quien después de convertirse en una mahou shoujo, queda envuelta en medio del conflicto entre Rin y Luvia.\n",
    "\n",
    "<div style=\"text-align: center;\">\n",
    "    <img src=\"https://imgsrv.crunchyroll.com/cdn-cgi/image/fit=contain,format=auto,quality=85,width=1200,height=675/catalog/crunchyroll/f64d825e511343182554bd7f2d87125c.jpe\" alt=\"Descripción de la imagen\">\n",
    "</div>"
   ]
  },
  {
   "attachments": {},
   "cell_type": "markdown",
   "id": "865e6c42-717f-4263-a842-c55384b606c2",
   "metadata": {},
   "source": [
    "<div style=\"text-align: center;\">\n",
    "    <h1>Fate / Extra: Last Encore.</h1>\n",
    "</div>\n",
    "\n",
    "Para esta adaptación del manga Fate/Extra, el estudio de animación Shaft combina el formato serie y 3 OVAs, todos estrenados en el 2018. La ambientación nos traslada hasta Moon Cell, el mundo ficticio donde el curso de las Guerras Santas se ve influenciado por la inteligencia artificial SE.RA.PH.\n",
    "\n",
    "<div style=\"text-align: center;\">\n",
    "    <img src=\"https://playmax.xyz/img/cv/full/91/1519147070/45245.jpg\" alt=\"Descripción de la imagen\">\n",
    "</div>"
   ]
  },
  {
   "cell_type": "markdown",
   "id": "518ab75d-3c43-45ca-983e-24e3d4db0a53",
   "metadata": {},
   "source": [
    "<div style=\"text-align: center;\">\n",
    "    <h1>Fate / Grand Order.</h1>\n",
    "</div>\n",
    "\n",
    "Desde el 2016 y hasta la actualidad, el videojuego homónimo se apodera de la atención de la audiencia. Gracias a una historia bien gestada e interesantes personajes, la franquicia ha sabido sacar provecho de varias películas, series y especiales que giran en torno al RPG.\n",
    "\n",
    "<div style=\"text-align: center;\">\n",
    "    <img src=\"https://imgsrv.crunchyroll.com/cdn-cgi/image/fit=contain,format=auto,quality=85,width=1200,height=675/catalog/crunchyroll/60385671a804aa4e097eea1e9d8b88f7.jpe\" alt=\"Descripción de la imagen\">\n",
    "</div>"
   ]
  },
  {
   "cell_type": "markdown",
   "id": "032b5890-afd5-4685-b7d2-bb3e1de2bf6c",
   "metadata": {},
   "source": [
    "# Dos OVAs:\n",
    "\n",
    "Lord El-Melloi II Sei no Jikenbo.\n",
    "\n",
    "Fate/strange Fake: Whispers of Dawn."
   ]
  },
  {
   "attachments": {},
   "cell_type": "markdown",
   "id": "3150464a-d449-41c2-bbea-f41f8f761585",
   "metadata": {},
   "source": [
    "<div style=\"text-align: center;\">\n",
    "    <h1>Lord El-Melloi II Sei no Jikenbo.</h1>\n",
    "</div>\n",
    "\n",
    "El spin-off de Fate/Zero consta de un especial de TV y una serie de anime estrenados en 2018 y 2019, respectivamente. El argumento cuenta la historia de Waver Velvet, el cual, en compañía de su aprendiz Gray, debe regresar al Castillo Adra para competir por una interesante herencia.\n",
    "\n",
    "<div style=\"text-align: center;\">\n",
    "    <img src=\"https://imgsrv.crunchyroll.com/cdn-cgi/image/fit=contain,format=auto,quality=85,width=1200,height=675/catalog/crunchyroll/6838a4ce655203eaa453ea7ac9aec078.jpe\" alt=\"Descripción de la imagen\">\n",
    "</div>"
   ]
  },
  {
   "cell_type": "markdown",
   "id": "eaa911f1-adcd-4e88-a3ab-78375c3b8854",
   "metadata": {},
   "source": [
    "<div style=\"text-align: center;\">\n",
    "    <h1>Fate/ Strange Fake: Whispers Of Dawn.</h1>\n",
    "</div>\n",
    "\n",
    "Este especial de 1 hora estuvo a cargo de A-1 Pictures y fue estrenado en julio de 2023. Además de la reaparición de importantes personajes de la franquicia, propone una guerra “falsa” por el Santo Grial que los lleva hasta Estados Unidos.\n",
    "\n",
    "<div style=\"text-align: center;\">\n",
    "    <img src=\"https://i.ytimg.com/vi/wGGw9JJwEPw/maxresdefault.jpg\" alt=\"Descripción de la imagen\">\n",
    "</div>"
   ]
  },
  {
   "cell_type": "markdown",
   "id": "890a03f8-1ad2-4eb3-a562-b897f1ef5313",
   "metadata": {},
   "source": [
    "# Spin-offs: \n",
    "\n",
    "Today's Menu for the Emiya Family"
   ]
  },
  {
   "cell_type": "markdown",
   "id": "1be32f33-3452-4e18-8b59-7f1b4793c7d5",
   "metadata": {},
   "source": [
    "<div style=\"text-align: center;\">\n",
    "    <h1>Today's Menu for the Emiya Family.</h1>\n",
    "</div>\n",
    "\n",
    "El Web Anime estrenado el 25 de enero de 2018. La historia del anime está basada en las vivencias de Emiya y Saber dentro de una misma casa, de ahí que los veremos cocinando platos icónicos de la gastronomía japonesa para sus invitados.\r\n",
    "\r\n",
    "Aunque puede parecer abrumador, cada producción del universo de Fate merece la pena, todo es cuestión de un poco de dedicar el tiempo necesario y seguir el orden para entender la historia de principio a fin."
   ]
  },
  {
   "cell_type": "markdown",
   "id": "19322795-c4e3-408a-8132-996fea11209d",
   "metadata": {},
   "source": [
    "\n",
    "<div style=\"text-align: center;\">\n",
    "    <img src=\"https://nintendoeverything.com/wp-content/uploads/everyday-todays-menu-for-emiya-family-1.jpg\" alt=\"Descripción de la imagen\">\n",
    "</div>"
   ]
  },
  {
   "cell_type": "markdown",
   "id": "60699419-00d6-47f9-a399-80c000f018c0",
   "metadata": {
    "jp-MarkdownHeadingCollapsed": true
   },
   "source": [
    "## Creación del grafo.\n",
    "\n",
    "Para este codigo utilizaremos la biblioteca NetworkX.\n",
    "\n",
    "Es una biblioteca de Python para el estudio de grafos y análisis de redes. NetworkX es un software libre publicado bajo la licencia BSD-new."
   ]
  },
  {
   "cell_type": "markdown",
   "id": "d1475e52-91fb-4732-b73e-63bbc62ebbd4",
   "metadata": {},
   "source": [
    "## Paso 1.- Importamos la biblioteca NetworkX."
   ]
  },
  {
   "cell_type": "code",
   "execution_count": 57,
   "id": "e7f6a5de-9057-4170-b7ec-d91b08c7acf5",
   "metadata": {},
   "outputs": [],
   "source": [
    "import networkx as nx\n",
    "import matplotlib.pyplot as plt\n"
   ]
  },
  {
   "cell_type": "markdown",
   "id": "170701eb-83e6-4d55-ac25-602ca88a196c",
   "metadata": {},
   "source": [
    "## Creacion del grafo.\n",
    "\n",
    "Por definición, Graph es una colección de nodos o también llamados vértices junto con pares identificados de nodos (denominados aristas, arcos, vínculos, enlaces, etcétera)\n",
    "\n",
    "A continuación se muestra el codigo que dibuja el grafo cronologico de la saga FATE:"
   ]
  },
  {
   "cell_type": "code",
   "execution_count": 58,
   "id": "f2ab284c-889c-453a-8050-481b214d30d0",
   "metadata": {},
   "outputs": [
    {
     "data": {
      "image/png": "[encoded data removed]",
      "text/plain": [
       "<Figure size 640x480 with 1 Axes>"
      ]
     },
     "metadata": {},
     "output_type": "display_data"
    }
   ],
   "source": [
    "G. clear ()\n",
    "#Base de todo FATE\n",
    "G.add_node(\"Fate Zero\")\n",
    "\n",
    "#Series que se vinculan (nodos)\n",
    "G.add_node(\"Fate Stay Night\")\n",
    "G.add_node(\"Fate Unlimited works\")\n",
    "G.add_node(\"Fate Stay Night Movie\")\n",
    "G.add_node(\"Fate Apocrypha\")\n",
    "G.add_node(\"Fate Kaleid Liner Prisma\")\n",
    "G.add_node(\"Fate extra Last Encore\")\n",
    "G.add_node(\"Fate Grand Order\")\n",
    "G.add_node(\"Lord El-Melloi II\")\n",
    "G.add_node(\"Fate Strange Fake\")\n",
    "\n",
    "#Series sin vinculo con Fate Zero(nodos).\n",
    "G.add_node(\"Fate Carnival\")\n",
    "G.add_node(\"Fate Carnival Phantasm\")\n",
    "G.add_node(\"Fate Monlight\")\n",
    "G.add_node(\"Fate Camelot I\")\n",
    "G.add_node(\"Fate Camelot II\")\n",
    "G.add_node(\"Fate Babylonia\")\n",
    "G.add_node(\"Fate Initium\")\n",
    "G.add_node(\"Fate Shuukyoku\")\n",
    "G.add_node(\"Fate Protoype\")\n",
    "\n",
    "#Relaciones en la cronologia (Aristas)\n",
    "G.add_edge(\"Fate Zero\", \"Fate Stay Night\")\n",
    "G.add_edge(\"Fate Zero\", \"Fate Unlimited works\")\n",
    "G.add_edge(\"Fate Zero\", \"Fate Stay Night Movie\")\n",
    "G.add_edge(\"Fate Zero\", \"Fate Apocrypha\")\n",
    "G.add_edge(\"Fate Zero\", \"Fate Kaleid Liner Prisma\")\n",
    "G.add_edge(\"Fate Zero\", \"Fate extra Last Encore\")\n",
    "G.add_edge(\"Fate Zero\", \"Fate Grand Order\")\n",
    "G.add_edge(\"Fate Zero\", \"Lord El-Melloi II\")\n",
    "G.add_edge(\"Fate Zero\", \"Fate Strange Fake\")\n",
    "\n",
    "#Relacion entre series no canonicas (Aristas).\n",
    "G.add_edge(\"Fate Carnival\", \"Fate Carnival Phantasm\")\n",
    "G.add_edge(\"Fate Grand Order\", \"Fate Babylonia\")\n",
    "G.add_edge(\"Fate Grand Order\", \"Fate Camelot I\")\n",
    "G.add_edge(\"Fate Grand Order\", \"Fate Camelot II\")\n",
    "G.add_edge(\"Fate Grand Order\", \"Fate Initium\")\n",
    "G.add_edge(\"Fate Grand Order\", \"Fate Shuukyoku\")\n",
    "G.add_edge(\"Fate Grand Order\", \"Fate Monlight\")\n",
    "\n",
    "#Relaciones entre cada serie (Aristas)\n",
    "G.add_edge(\"Fate Stay Night\", \"Fate Unlimited works\")\n",
    "G.add_edge(\"Fate stay Night Movie\", \"Fate Stay Night\")\n",
    "G.add_edge(\"Fate Apocrypha\", \"Fate Kaleid Liner Prisma\")\n",
    "G.add_edge(\"Fate extra Last Encore\", \"Fate Grand Order\")\n",
    "G.add_edge(\"Fate stay Night Movie\", \"Fate Stay Night Movie\")\n",
    "G.add_edge(\"Fate Grand Order\", \"Fate Stay Night\")\n",
    "G.add_edge(\"Fate Grand Order\", \"Fate Unlimited works\")\n",
    "G.add_edge(\"Fate extra Last Encore\", \"Fate Carnival\")\n",
    "G.add_edge(\"Fate Stay Night\", \"Fate Protoype\")\n",
    "\n",
    "\n",
    "nx.draw(G, with_labels=True, node_color=\"yellow\", node_size= 500, font_color=\"red\")"
   ]
  },
  {
   "cell_type": "markdown",
   "id": "47513e4e-4f3d-4955-b877-5094b4b422bb",
   "metadata": {},
   "source": [
    "## Conteo de las aristas del grafo.\n",
    "\n",
    "Se utiliza el siguiente instrucción:"
   ]
  },
  {
   "cell_type": "code",
   "execution_count": 59,
   "id": "dd524b26-cb48-443c-ac4c-39afcb555cd6",
   "metadata": {},
   "outputs": [
    {
     "data": {
      "text/plain": [
       "25"
      ]
     },
     "execution_count": 59,
     "metadata": {},
     "output_type": "execute_result"
    }
   ],
   "source": [
    "G.number_of_edges()"
   ]
  },
  {
   "cell_type": "markdown",
   "id": "7e28ed77-1af6-49f0-bd90-aaf8821cdd9e",
   "metadata": {},
   "source": [
    "## Conteo de los nodos del grafo.\n",
    "\n",
    "Se utiliza la siguiente instrucción:"
   ]
  },
  {
   "cell_type": "code",
   "execution_count": 60,
   "id": "ba4ccafe-d7ad-48dc-9a1c-ec809ddcc3f8",
   "metadata": {},
   "outputs": [
    {
     "data": {
      "text/plain": [
       "20"
      ]
     },
     "execution_count": 60,
     "metadata": {},
     "output_type": "execute_result"
    }
   ],
   "source": [
    "G.number_of_nodes()"
   ]
  },
  {
   "cell_type": "markdown",
   "id": "2d51db72-e1b8-4aa0-9ca9-ed231c3db55d",
   "metadata": {},
   "source": [
    "## Vista de todos los nodos.\n",
    "\n",
    "Utilizamos la siguiente instrucción:"
   ]
  },
  {
   "cell_type": "code",
   "execution_count": 61,
   "id": "82c6784c-699a-4b45-b3ba-dc91154b752f",
   "metadata": {},
   "outputs": [
    {
     "data": {
      "text/plain": [
       "['Fate Zero',\n",
       " 'Fate Stay Night',\n",
       " 'Fate Unlimited works',\n",
       " 'Fate Stay Night Movie',\n",
       " 'Fate Apocrypha',\n",
       " 'Fate Kaleid Liner Prisma',\n",
       " 'Fate extra Last Encore',\n",
       " 'Fate Grand Order',\n",
       " 'Lord El-Melloi II',\n",
       " 'Fate Strange Fake',\n",
       " 'Fate Carnival',\n",
       " 'Fate Carnival Phantasm',\n",
       " 'Fate Monlight',\n",
       " 'Fate Camelot I',\n",
       " 'Fate Camelot II',\n",
       " 'Fate Babylonia',\n",
       " 'Fate Initium',\n",
       " 'Fate Shuukyoku',\n",
       " 'Fate Protoype',\n",
       " 'Fate stay Night Movie']"
      ]
     },
     "execution_count": 61,
     "metadata": {},
     "output_type": "execute_result"
    }
   ],
   "source": [
    "list(G.nodes())"
   ]
  },
  {
   "cell_type": "markdown",
   "id": "bc5d7f89-9c0c-4e67-a8c8-1679ce4b4fc2",
   "metadata": {},
   "source": [
    "## Vista de todas las aristas.\n",
    "\n",
    "Ulitizamos la siguiente instrucción:"
   ]
  },
  {
   "cell_type": "code",
   "execution_count": 62,
   "id": "2fc4799d-d582-4162-94e1-f1bd190b2651",
   "metadata": {},
   "outputs": [
    {
     "data": {
      "text/plain": [
       "[('Fate Zero', 'Fate Stay Night'),\n",
       " ('Fate Zero', 'Fate Unlimited works'),\n",
       " ('Fate Zero', 'Fate Stay Night Movie'),\n",
       " ('Fate Zero', 'Fate Apocrypha'),\n",
       " ('Fate Zero', 'Fate Kaleid Liner Prisma'),\n",
       " ('Fate Zero', 'Fate extra Last Encore'),\n",
       " ('Fate Zero', 'Fate Grand Order'),\n",
       " ('Fate Zero', 'Lord El-Melloi II'),\n",
       " ('Fate Zero', 'Fate Strange Fake'),\n",
       " ('Fate Stay Night', 'Fate Unlimited works'),\n",
       " ('Fate Stay Night', 'Fate stay Night Movie'),\n",
       " ('Fate Stay Night', 'Fate Grand Order'),\n",
       " ('Fate Stay Night', 'Fate Protoype'),\n",
       " ('Fate Unlimited works', 'Fate Grand Order'),\n",
       " ('Fate Stay Night Movie', 'Fate stay Night Movie'),\n",
       " ('Fate Apocrypha', 'Fate Kaleid Liner Prisma'),\n",
       " ('Fate extra Last Encore', 'Fate Grand Order'),\n",
       " ('Fate extra Last Encore', 'Fate Carnival'),\n",
       " ('Fate Grand Order', 'Fate Babylonia'),\n",
       " ('Fate Grand Order', 'Fate Camelot I'),\n",
       " ('Fate Grand Order', 'Fate Camelot II'),\n",
       " ('Fate Grand Order', 'Fate Initium'),\n",
       " ('Fate Grand Order', 'Fate Shuukyoku'),\n",
       " ('Fate Grand Order', 'Fate Monlight'),\n",
       " ('Fate Carnival', 'Fate Carnival Phantasm')]"
      ]
     },
     "execution_count": 62,
     "metadata": {},
     "output_type": "execute_result"
    }
   ],
   "source": [
    "list(G.edges())"
   ]
  },
  {
   "cell_type": "markdown",
   "id": "4a4af38c-70ed-474a-91f4-1ad173ab405d",
   "metadata": {},
   "source": [
    "## Vecinos de cada nodo.\n",
    "\n",
    "Utilizamos la siguiente función:"
   ]
  },
  {
   "cell_type": "code",
   "execution_count": 63,
   "id": "cf2a212d-be88-47ba-914f-423c16c1406c",
   "metadata": {},
   "outputs": [
    {
     "data": {
      "text/plain": [
       "['Fate Stay Night',\n",
       " 'Fate Unlimited works',\n",
       " 'Fate Stay Night Movie',\n",
       " 'Fate Apocrypha',\n",
       " 'Fate Kaleid Liner Prisma',\n",
       " 'Fate extra Last Encore',\n",
       " 'Fate Grand Order',\n",
       " 'Lord El-Melloi II',\n",
       " 'Fate Strange Fake']"
      ]
     },
     "execution_count": 63,
     "metadata": {},
     "output_type": "execute_result"
    }
   ],
   "source": [
    "list(G.neighbors(\"Fate Zero\"))"
   ]
  },
  {
   "cell_type": "code",
   "execution_count": 64,
   "id": "07213cd1-a6cc-4ab9-aa7e-fa782e5af12f",
   "metadata": {},
   "outputs": [
    {
     "data": {
      "text/plain": [
       "['Fate Zero',\n",
       " 'Fate Babylonia',\n",
       " 'Fate Camelot I',\n",
       " 'Fate Camelot II',\n",
       " 'Fate Initium',\n",
       " 'Fate Shuukyoku',\n",
       " 'Fate Monlight',\n",
       " 'Fate extra Last Encore',\n",
       " 'Fate Stay Night',\n",
       " 'Fate Unlimited works']"
      ]
     },
     "execution_count": 64,
     "metadata": {},
     "output_type": "execute_result"
    }
   ],
   "source": [
    "list(G.neighbors(\"Fate Grand Order\"))"
   ]
  },
  {
   "cell_type": "code",
   "execution_count": 65,
   "id": "c58a8f7e-574d-408e-b267-6a1854e42a83",
   "metadata": {},
   "outputs": [
    {
     "data": {
      "text/plain": [
       "['Fate Zero',\n",
       " 'Fate Unlimited works',\n",
       " 'Fate stay Night Movie',\n",
       " 'Fate Grand Order',\n",
       " 'Fate Protoype']"
      ]
     },
     "execution_count": 65,
     "metadata": {},
     "output_type": "execute_result"
    }
   ],
   "source": [
    "list(G.neighbors(\"Fate Stay Night\"))"
   ]
  },
  {
   "cell_type": "code",
   "execution_count": 66,
   "id": "164ea5a3-40a0-447b-b9d3-b30ef13718d3",
   "metadata": {},
   "outputs": [
    {
     "data": {
      "text/plain": [
       "['Fate Zero', 'Fate Grand Order', 'Fate Carnival']"
      ]
     },
     "execution_count": 66,
     "metadata": {},
     "output_type": "execute_result"
    }
   ],
   "source": [
    "list(G.neighbors(\"Fate extra Last Encore\"))"
   ]
  },
  {
   "cell_type": "code",
   "execution_count": 67,
   "id": "846a7379-4fbf-44c7-8a44-e0384a8cd3a9",
   "metadata": {
    "scrolled": true
   },
   "outputs": [
    {
     "data": {
      "text/plain": [
       "['Fate Carnival Phantasm', 'Fate extra Last Encore']"
      ]
     },
     "execution_count": 67,
     "metadata": {},
     "output_type": "execute_result"
    }
   ],
   "source": [
    "list(G.neighbors(\"Fate Carnival\"))"
   ]
  },
  {
   "cell_type": "code",
   "execution_count": 68,
   "id": "d6072305-bf5f-472f-b25e-470634be2917",
   "metadata": {},
   "outputs": [
    {
     "data": {
      "text/plain": [
       "['Fate Zero', 'Fate Kaleid Liner Prisma']"
      ]
     },
     "execution_count": 68,
     "metadata": {},
     "output_type": "execute_result"
    }
   ],
   "source": [
    "list(G.neighbors(\"Fate Apocrypha\"))"
   ]
  },
  {
   "cell_type": "markdown",
   "id": "f8a60930-f707-49c3-9298-bd22785b7b9e",
   "metadata": {},
   "source": [
    "## Calcular el grado de todos los vertices.\n",
    "\n",
    "Utilizamos la siguiente instrucción:"
   ]
  },
  {
   "cell_type": "code",
   "execution_count": 69,
   "id": "40e183e6-d1c9-4ad3-9314-bb0422e21cfb",
   "metadata": {},
   "outputs": [
    {
     "name": "stdout",
     "output_type": "stream",
     "text": [
      "El nodo \"Fate Zero\" tiene un grado de: 9\n",
      "El nodo \"Fate Stay Night\" tiene un grado de: 5\n",
      "El nodo \"Fate Unlimited works\" tiene un grado de: 3\n",
      "El nodo \"Fate Stay Night Movie\" tiene un grado de: 2\n",
      "El nodo \"Fate Apocrypha\" tiene un grado de: 2\n",
      "El nodo \"Fate Kaleid Liner Prisma\" tiene un grado de: 2\n",
      "El nodo \"Fate extra Last Encore\" tiene un grado de: 3\n",
      "El nodo \"Fate Grand Order\" tiene un grado de: 10\n",
      "El nodo \"Lord El-Melloi II\" tiene un grado de: 1\n",
      "El nodo \"Fate Strange Fake\" tiene un grado de: 1\n",
      "El nodo \"Fate Carnival\" tiene un grado de: 2\n",
      "El nodo \"Fate Carnival Phantasm\" tiene un grado de: 1\n",
      "El nodo \"Fate Monlight\" tiene un grado de: 1\n",
      "El nodo \"Fate Camelot I\" tiene un grado de: 1\n",
      "El nodo \"Fate Camelot II\" tiene un grado de: 1\n",
      "El nodo \"Fate Babylonia\" tiene un grado de: 1\n",
      "El nodo \"Fate Initium\" tiene un grado de: 1\n",
      "El nodo \"Fate Shuukyoku\" tiene un grado de: 1\n",
      "El nodo \"Fate Protoype\" tiene un grado de: 1\n",
      "El nodo \"Fate stay Night Movie\" tiene un grado de: 2\n"
     ]
    }
   ],
   "source": [
    "grado_vertices = G.degree()\n",
    "\n",
    "for nodo, grado in grado_vertices:\n",
    "    print(f'El nodo \"{nodo}\" tiene un grado de: {grado}')"
   ]
  },
  {
   "cell_type": "markdown",
   "id": "ab840c57-4196-43b3-b9b6-6ef91a86ee21",
   "metadata": {},
   "source": [
    "## Calcular la excentricidad de todos los nodos.\n",
    "\n",
    "Utilizamos la siguiente instrucción:"
   ]
  },
  {
   "cell_type": "code",
   "execution_count": 70,
   "id": "6a747687-0d58-4684-980d-4b5c31b3d903",
   "metadata": {},
   "outputs": [
    {
     "name": "stdout",
     "output_type": "stream",
     "text": [
      "La excentricidad de \"Fate Zero\" es: 3\n",
      "La excentricidad de \"Fate Stay Night\" es: 4\n",
      "La excentricidad de \"Fate Unlimited works\" es: 4\n",
      "La excentricidad de \"Fate Stay Night Movie\" es: 4\n",
      "La excentricidad de \"Fate Apocrypha\" es: 4\n",
      "La excentricidad de \"Fate Kaleid Liner Prisma\" es: 4\n",
      "La excentricidad de \"Fate extra Last Encore\" es: 3\n",
      "La excentricidad de \"Fate Grand Order\" es: 3\n",
      "La excentricidad de \"Lord El-Melloi II\" es: 4\n",
      "La excentricidad de \"Fate Strange Fake\" es: 4\n",
      "La excentricidad de \"Fate Carnival\" es: 4\n",
      "La excentricidad de \"Fate Carnival Phantasm\" es: 5\n",
      "La excentricidad de \"Fate Monlight\" es: 4\n",
      "La excentricidad de \"Fate Camelot I\" es: 4\n",
      "La excentricidad de \"Fate Camelot II\" es: 4\n",
      "La excentricidad de \"Fate Babylonia\" es: 4\n",
      "La excentricidad de \"Fate Initium\" es: 4\n",
      "La excentricidad de \"Fate Shuukyoku\" es: 4\n",
      "La excentricidad de \"Fate Protoype\" es: 5\n",
      "La excentricidad de \"Fate stay Night Movie\" es: 5\n"
     ]
    }
   ],
   "source": [
    "excentricidad = nx.eccentricity(G)\n",
    "\n",
    "for nodo, excent in excentricidad.items():\n",
    "    print(f'La excentricidad de \"{nodo}\" es: {excent}')"
   ]
  },
  {
   "cell_type": "markdown",
   "id": "d01e70c1-fd4b-412a-8ec3-69668a1c26d4",
   "metadata": {},
   "source": [
    "## Calcular el radio.\n",
    "\n",
    "Utilizamos la siguiente instrucción:"
   ]
  },
  {
   "cell_type": "code",
   "execution_count": 71,
   "id": "7e7bc041-f65c-4282-b2e6-3451279bc354",
   "metadata": {},
   "outputs": [
    {
     "name": "stdout",
     "output_type": "stream",
     "text": [
      "El radio del grafo es: 3\n"
     ]
    }
   ],
   "source": [
    "radio = nx.radius(G)\n",
    "\n",
    "print(f'El radio del grafo es: {radio}')\n"
   ]
  },
  {
   "cell_type": "markdown",
   "id": "13cf6aff-1ad6-466d-890f-d3366fedbd79",
   "metadata": {},
   "source": [
    "## Calcular el diametro.\n",
    "\n",
    "Utilizamos la siguiente instrucción:"
   ]
  },
  {
   "cell_type": "code",
   "execution_count": 72,
   "id": "6ec6d325-63d2-47c4-93c7-11b5d169413a",
   "metadata": {},
   "outputs": [
    {
     "name": "stdout",
     "output_type": "stream",
     "text": [
      "El diámetro del grafo es: 5\n"
     ]
    }
   ],
   "source": [
    "diametro = nx.diameter(G)\n",
    "\n",
    "print(f'El diámetro del grafo es: {diametro}')\n"
   ]
  },
  {
   "cell_type": "markdown",
   "id": "69e354ea-4bfb-465e-b302-f42e0fa839a9",
   "metadata": {},
   "source": [
    "## Calcular el centro.\n",
    "\n",
    "Utilizamos la siguiente instrucción:"
   ]
  },
  {
   "cell_type": "code",
   "execution_count": 73,
   "id": "1cd23796-e6cd-48d5-84b9-a3fe807d3831",
   "metadata": {},
   "outputs": [
    {
     "name": "stdout",
     "output_type": "stream",
     "text": [
      "El centro del grafo es: ['Fate Zero', 'Fate extra Last Encore', 'Fate Grand Order']\n"
     ]
    }
   ],
   "source": [
    "centro = nx.center(G)\n",
    "\n",
    "print(f'El centro del grafo es: {centro}')"
   ]
  },
  {
   "cell_type": "markdown",
   "id": "1177afa9-c20e-4a65-8aa0-620518dbb378",
   "metadata": {},
   "source": [
    "## Ciclos del grafo.\n",
    "\n",
    "Utilizamos la siguiente instrucción:"
   ]
  },
  {
   "cell_type": "code",
   "execution_count": 74,
   "id": "6bc9113f-a1af-4fbe-a822-ca15bfdf7cff",
   "metadata": {},
   "outputs": [
    {
     "name": "stdout",
     "output_type": "stream",
     "text": [
      "Los ciclos en el grafo son:\n",
      "['Fate Zero', 'Fate Apocrypha', 'Fate Kaleid Liner Prisma']\n",
      "['Fate Unlimited works', 'Fate Zero', 'Fate Stay Night']\n",
      "['Fate Unlimited works', 'Fate Zero', 'Fate Stay Night', 'Fate Grand Order']\n",
      "['Fate Unlimited works', 'Fate Zero', 'Fate Stay Night Movie', 'Fate stay Night Movie', 'Fate Stay Night']\n",
      "['Fate Unlimited works', 'Fate Zero', 'Fate Stay Night Movie', 'Fate stay Night Movie', 'Fate Stay Night', 'Fate Grand Order']\n",
      "['Fate Unlimited works', 'Fate Zero', 'Fate extra Last Encore', 'Fate Grand Order', 'Fate Stay Night']\n",
      "['Fate Unlimited works', 'Fate Zero', 'Fate extra Last Encore', 'Fate Grand Order']\n",
      "['Fate Unlimited works', 'Fate Zero', 'Fate Grand Order', 'Fate Stay Night']\n",
      "['Fate Unlimited works', 'Fate Zero', 'Fate Grand Order']\n",
      "['Fate Unlimited works', 'Fate Stay Night', 'Fate Zero', 'Fate extra Last Encore', 'Fate Grand Order']\n",
      "['Fate Unlimited works', 'Fate Stay Night', 'Fate Zero', 'Fate Grand Order']\n",
      "['Fate Unlimited works', 'Fate Stay Night', 'Fate stay Night Movie', 'Fate Stay Night Movie', 'Fate Zero', 'Fate extra Last Encore', 'Fate Grand Order']\n",
      "['Fate Unlimited works', 'Fate Stay Night', 'Fate stay Night Movie', 'Fate Stay Night Movie', 'Fate Zero', 'Fate Grand Order']\n",
      "['Fate Unlimited works', 'Fate Stay Night', 'Fate Grand Order']\n",
      "['Fate Stay Night Movie', 'Fate Zero', 'Fate Stay Night', 'Fate stay Night Movie']\n",
      "['Fate Stay Night Movie', 'Fate Zero', 'Fate extra Last Encore', 'Fate Grand Order', 'Fate Stay Night', 'Fate stay Night Movie']\n",
      "['Fate Stay Night Movie', 'Fate Zero', 'Fate Grand Order', 'Fate Stay Night', 'Fate stay Night Movie']\n",
      "['Fate Stay Night', 'Fate Zero', 'Fate extra Last Encore', 'Fate Grand Order']\n",
      "['Fate Stay Night', 'Fate Zero', 'Fate Grand Order']\n",
      "['Fate Zero', 'Fate extra Last Encore', 'Fate Grand Order']\n"
     ]
    }
   ],
   "source": [
    "ciclos = list(nx.simple_cycles(G))\n",
    "\n",
    "print(\"Los ciclos en el grafo son:\")\n",
    "for ciclo in ciclos:\n",
    "    print(ciclo)"
   ]
  },
  {
   "cell_type": "markdown",
   "id": "f943b335-88f2-48f1-9568-031e8cfc7bb0",
   "metadata": {},
   "source": [
    "## Teorema del grafo.\n",
    "\n",
    "Utilizamos la siguiente instrucción:"
   ]
  },
  {
   "cell_type": "code",
   "execution_count": 76,
   "id": "658666ac-f87a-4800-9acb-0c54fa17902a",
   "metadata": {},
   "outputs": [
    {
     "name": "stdout",
     "output_type": "stream",
     "text": [
      "El grafo no es Euleriano.\n"
     ]
    }
   ],
   "source": [
    "if nx.is_eulerian(G):\n",
    "    print(\"El grafo es Euleriano.\")\n",
    "    circuito_euleriano = list(nx.eulerian_circuit(G))\n",
    "    print(\"Circuito Euleriano:\", circuito_euleriano)\n",
    "else:\n",
    "    print(\"El grafo no es Euleriano.\")\n"
   ]
  }
 ],
 "metadata": {
  "kernelspec": {
   "display_name": "Python 3 (ipykernel)",
   "language": "python",
   "name": "python3"
  },
  "language_info": {
   "codemirror_mode": {
    "name": "ipython",
    "version": 3
   },
   "file_extension": ".py",
   "mimetype": "text/x-python",
   "name": "python",
   "nbconvert_exporter": "python",
   "pygments_lexer": "ipython3",
   "version": "3.11.7"
  }
 },
 "nbformat": 4,
 "nbformat_minor": 5
}
